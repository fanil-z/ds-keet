{
 "cells": [
  {
   "cell_type": "markdown",
   "metadata": {},
   "source": [
    "Just a telegram bot that sends you a freshly-AI-generated cat picture every time you type \"meow\"."
   ]
  },
  {
   "cell_type": "code",
   "execution_count": 1,
   "metadata": {},
   "outputs": [
    {
     "name": "stdout",
     "output_type": "stream",
     "text": [
      "Collecting pytelegrambotapi\n",
      "  Downloading pyTelegramBotAPI-3.7.7.tar.gz (83 kB)\n",
      "Requirement already satisfied: requests in c:\\conda\\lib\\site-packages (from pytelegrambotapi) (2.25.0)\n",
      "Requirement already satisfied: urllib3<1.27,>=1.21.1 in c:\\conda\\lib\\site-packages (from requests->pytelegrambotapi) (1.25.8)\n",
      "Requirement already satisfied: chardet<4,>=3.0.2 in c:\\conda\\lib\\site-packages (from requests->pytelegrambotapi) (3.0.4)\n",
      "Requirement already satisfied: idna<3,>=2.5 in c:\\conda\\lib\\site-packages (from requests->pytelegrambotapi) (2.8)\n",
      "Requirement already satisfied: certifi>=2017.4.17 in c:\\conda\\lib\\site-packages (from requests->pytelegrambotapi) (2019.11.28)\n",
      "Building wheels for collected packages: pytelegrambotapi\n",
      "  Building wheel for pytelegrambotapi (setup.py): started\n",
      "  Building wheel for pytelegrambotapi (setup.py): finished with status 'done'\n",
      "  Created wheel for pytelegrambotapi: filename=pyTelegramBotAPI-3.7.7-py3-none-any.whl size=60362 sha256=b1681b94d167ef7090efe9856e6cebd07562be42298e2db954d5fe1aa52e10f1\n",
      "  Stored in directory: c:\\users\\joelle van dyne\\appdata\\local\\pip\\cache\\wheels\\ff\\5c\\16\\d2717105b80f21934d6c17d3cda992b1994625e235f4147014\n",
      "Successfully built pytelegrambotapi\n",
      "Installing collected packages: pytelegrambotapi\n",
      "Successfully installed pytelegrambotapi-3.7.7\n",
      "Note: you may need to restart the kernel to use updated packages.\n"
     ]
    },
    {
     "name": "stderr",
     "output_type": "stream",
     "text": [
      "WARNING: You are using pip version 20.3.3; however, version 21.0.1 is available.\n",
      "You should consider upgrading via the 'C:\\conda\\python.exe -m pip install --upgrade pip' command.\n"
     ]
    }
   ],
   "source": [
    "pip install pytelegrambotapi"
   ]
  },
  {
   "cell_type": "code",
   "execution_count": 2,
   "metadata": {},
   "outputs": [],
   "source": [
    "import telebot\n",
    "import datetime\n",
    "bot = telebot.TeleBot('1110626933:AAGceBR181JAPYAtnkTTSXgBkSRSPe5P6EE')"
   ]
  },
  {
   "cell_type": "code",
   "execution_count": null,
   "metadata": {},
   "outputs": [],
   "source": [
    "@bot.message_handler(content_types=['text'])\n",
    "def send_text(message):\n",
    "    if message.text.lower() == 'hello':\n",
    "        bot.send_message(message.chat.id, 'Hello, type meow')\n",
    "    elif message.text.lower() == 'meow':\n",
    "        timestamp = datetime.datetime.now().isoformat()\n",
    "        pic_url = '{}/?{}'.format('https://thiscatdoesnotexist.com', timestamp)\n",
    "        bot.send_photo(message.chat.id, pic_url) \n",
    "\n",
    "bot.polling()"
   ]
  }
 ],
 "metadata": {
  "kernelspec": {
   "display_name": "Python 3",
   "language": "python",
   "name": "python3"
  },
  "language_info": {
   "codemirror_mode": {
    "name": "ipython",
    "version": 3
   },
   "file_extension": ".py",
   "mimetype": "text/x-python",
   "name": "python",
   "nbconvert_exporter": "python",
   "pygments_lexer": "ipython3",
   "version": "3.7.6"
  }
 },
 "nbformat": 4,
 "nbformat_minor": 4
}
