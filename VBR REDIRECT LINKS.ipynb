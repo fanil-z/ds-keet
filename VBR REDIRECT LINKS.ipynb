{
 "cells": [
  {
   "cell_type": "code",
   "execution_count": 2,
   "metadata": {},
   "outputs": [],
   "source": [
    "import pandas as pd\n",
    "import numpy as np\n",
    "\n",
    "# Specify a path to the Excel file and the worksheet name to import.\n",
    "# If the Excel file is in the same directory as the script, use only the file name.\n",
    "# IMPORTANT: The first row of the worksheet will be used as a header. Thus, the fisrt row must contain column names 'Link in Product' and 'Webhelp URL' (for the columns with the shortlink and target url)\n",
    "df = pd.read_excel('vbr_links.xlsx', sheet_name='AHV Proxy')\n",
    "\n",
    "# Dropping rows with empty values\n",
    "df = df[df['Link In Product'].notna()]\n",
    "\n",
    "# Removing 'https://redirect.veeam.com/'\n",
    "for i in range(len(df)):\n",
    "    df['Link In Product'].iloc[i] = df['Link In Product'].iloc[i].replace('https://redirect.veeam.com/', '')\n",
    "\n",
    "# Preparing required values for the CSV file    \n",
    "df = df[['Link In Product', 'Webhelp URL']]\n",
    "df['1'] = 1\n",
    "df['302'] = 302\n",
    "\n",
    "# Saving to CSV\n",
    "pd.DataFrame(df).to_numpy()\n",
    "np.savetxt('ahv_links_csv.csv', np.char.decode(df.values.astype(np.bytes_), 'UTF-8'), delimiter=', ', fmt='%s', encoding=None)\n",
    "# The CSV file will be saved to the same directory where the script resides"
   ]
  }
 ],
 "metadata": {
  "kernelspec": {
   "display_name": "Python 3",
   "language": "python",
   "name": "python3"
  },
  "language_info": {
   "codemirror_mode": {
    "name": "ipython",
    "version": 3
   },
   "file_extension": ".py",
   "mimetype": "text/x-python",
   "name": "python",
   "nbconvert_exporter": "python",
   "pygments_lexer": "ipython3",
   "version": "3.7.6"
  }
 },
 "nbformat": 4,
 "nbformat_minor": 4
}
